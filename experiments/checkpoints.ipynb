{
 "cells": [
  {
   "cell_type": "code",
   "execution_count": 1,
   "metadata": {},
   "outputs": [],
   "source": [
    "%matplotlib inline\n",
    "\n",
    "import sys\n",
    "\n",
    "sys.path.append(\"..\")"
   ]
  },
  {
   "cell_type": "code",
   "execution_count": 2,
   "metadata": {},
   "outputs": [
    {
     "data": {
      "text/plain": [
       "TripletNetwork(\n",
       "  (embedding_network): ConvolutionalNetwork(\n",
       "    (convolution_1): Conv2d(3, 6, kernel_size=(5, 5), stride=(1, 1))\n",
       "    (convolution_2): Conv2d(6, 16, kernel_size=(5, 5), stride=(1, 1))\n",
       "    (convolution_3): Conv2d(16, 20, kernel_size=(4, 4), stride=(1, 1))\n",
       "    (fully_connected_1): Linear(in_features=16820, out_features=15000, bias=True)\n",
       "    (fully_connected_2): Linear(in_features=15000, out_features=1200, bias=True)\n",
       "    (fully_connected_3): Linear(in_features=1200, out_features=125, bias=True)\n",
       "  )\n",
       ")"
      ]
     },
     "execution_count": 2,
     "metadata": {},
     "output_type": "execute_result"
    }
   ],
   "source": [
    "import os, pickle, sys, torch\n",
    "\n",
    "from settings import ROOT_DIR\n",
    "\n",
    "resume = '19-05-10T12-04'\n",
    "start_epoch = 1\n",
    "\n",
    "checkpoint_directory = os.path.join(ROOT_DIR, 'static', 'checkpoints', 'triplet_cnn', resume)\n",
    "\n",
    "net = torch.load(os.path.join(checkpoint_directory, '_net_%s.pth' % start_epoch))\n",
    "net"
   ]
  },
  {
   "cell_type": "code",
   "execution_count": 6,
   "metadata": {},
   "outputs": [
    {
     "name": "stdout",
     "output_type": "stream",
     "text": [
      "56\n",
      "56\n"
     ]
    }
   ],
   "source": [
    "from torch.utils.data.dataloader import default_collate\n",
    "\n",
    "from src.datasets import get_dataset\n",
    "\n",
    "dataset_name = 'sketchy_test_photos_triplets'\n",
    "workers = 4\n",
    "collate = default_collate\n",
    "\n",
    "dataset = get_dataset(dataset_name)\n",
    "\n",
    "batch_size = 32\n",
    "\n",
    "data_loader = torch.utils.data.DataLoader(\n",
    "    dataset, batch_size=batch_size, shuffle=True,\n",
    "    num_workers=workers, collate_fn=collate\n",
    ")\n",
    "\n",
    "print(sys.getsizeof(dataset))\n",
    "print(sys.getsizeof(data_loader))"
   ]
  },
  {
   "cell_type": "code",
   "execution_count": 7,
   "metadata": {},
   "outputs": [
    {
     "name": "stdout",
     "output_type": "stream",
     "text": [
      "112\n"
     ]
    }
   ],
   "source": [
    "real_batch = next(iter(data_loader))\n",
    "\n",
    "print(sys.getsizeof(real_batch))"
   ]
  },
  {
   "cell_type": "code",
   "execution_count": 8,
   "metadata": {},
   "outputs": [],
   "source": [
    "anchors, positives, negatives = real_batch\n",
    "\n",
    "anchor_embedding, positive_embedding, negative_embedding, distance_to_positive, distance_to_negative = net(anchors[0], positives[0], negatives[0])"
   ]
  },
  {
   "cell_type": "code",
   "execution_count": 9,
   "metadata": {},
   "outputs": [
    {
     "name": "stdout",
     "output_type": "stream",
     "text": [
      "tensor([1.1180e-05, 1.1180e-05, 1.1180e-05, 1.1180e-05, 1.1180e-05, 1.1180e-05,\n",
      "        1.1180e-05, 1.1180e-05, 1.1180e-05, 1.1180e-05, 1.1180e-05, 1.1180e-05,\n",
      "        1.1180e-05, 1.1180e-05, 1.1180e-05, 1.1180e-05, 1.1180e-05, 1.1180e-05,\n",
      "        1.1180e-05, 1.1180e-05, 1.1180e-05, 1.1180e-05, 1.1180e-05, 1.1180e-05,\n",
      "        1.1180e-05, 1.1180e-05, 1.1180e-05, 1.1180e-05, 1.1180e-05, 1.1180e-05,\n",
      "        1.1180e-05, 1.1180e-05], grad_fn=<NormBackward1>) tensor([1.1180e-05, 1.1180e-05, 1.1180e-05, 1.1180e-05, 1.1180e-05, 1.1180e-05,\n",
      "        1.1180e-05, 1.1180e-05, 1.1180e-05, 1.1180e-05, 1.1180e-05, 1.1180e-05,\n",
      "        1.1180e-05, 1.1180e-05, 1.1180e-05, 1.1180e-05, 1.1180e-05, 1.1180e-05,\n",
      "        1.1180e-05, 1.1180e-05, 1.1180e-05, 1.1180e-05, 1.1180e-05, 1.1180e-05,\n",
      "        1.1180e-05, 1.1180e-05, 1.1180e-05, 1.1180e-05, 1.1180e-05, 1.1180e-05,\n",
      "        1.1180e-05, 1.1180e-05], grad_fn=<NormBackward1>)\n"
     ]
    }
   ],
   "source": [
    "print(distance_to_positive, distance_to_negative)"
   ]
  },
  {
   "cell_type": "code",
   "execution_count": 11,
   "metadata": {},
   "outputs": [
    {
     "ename": "NameError",
     "evalue": "name 'loss_fn' is not defined",
     "output_type": "error",
     "traceback": [
      "\u001b[1;31m---------------------------------------------------------------------------\u001b[0m",
      "\u001b[1;31mNameError\u001b[0m                                 Traceback (most recent call last)",
      "\u001b[1;32m<ipython-input-11-272aea76097a>\u001b[0m in \u001b[0;36m<module>\u001b[1;34m\u001b[0m\n\u001b[0;32m      1\u001b[0m \u001b[0mtarget\u001b[0m \u001b[1;33m=\u001b[0m \u001b[1;33m-\u001b[0m\u001b[0mtorch\u001b[0m\u001b[1;33m.\u001b[0m\u001b[0mones\u001b[0m\u001b[1;33m(\u001b[0m\u001b[0manchors\u001b[0m\u001b[1;33m[\u001b[0m\u001b[1;36m1\u001b[0m\u001b[1;33m]\u001b[0m\u001b[1;33m.\u001b[0m\u001b[0msize\u001b[0m\u001b[1;33m(\u001b[0m\u001b[1;33m)\u001b[0m\u001b[1;33m[\u001b[0m\u001b[1;36m0\u001b[0m\u001b[1;33m]\u001b[0m\u001b[1;33m)\u001b[0m\u001b[1;33m\u001b[0m\u001b[1;33m\u001b[0m\u001b[0m\n\u001b[0;32m      2\u001b[0m \u001b[1;33m\u001b[0m\u001b[0m\n\u001b[1;32m----> 3\u001b[1;33m \u001b[0mtriplet_loss\u001b[0m \u001b[1;33m=\u001b[0m \u001b[0mloss_fn\u001b[0m\u001b[1;33m(\u001b[0m\u001b[0mdistance_to_positive\u001b[0m\u001b[1;33m,\u001b[0m \u001b[0mdistance_to_negative\u001b[0m\u001b[1;33m,\u001b[0m \u001b[0mtarget\u001b[0m\u001b[1;33m)\u001b[0m \u001b[1;31m# = d2positive - d2negative + margin\u001b[0m\u001b[1;33m\u001b[0m\u001b[1;33m\u001b[0m\u001b[0m\n\u001b[0m\u001b[0;32m      4\u001b[0m \u001b[1;33m\u001b[0m\u001b[0m\n\u001b[0;32m      5\u001b[0m \u001b[0mtriplet_loss\u001b[0m\u001b[1;33m\u001b[0m\u001b[1;33m\u001b[0m\u001b[0m\n",
      "\u001b[1;31mNameError\u001b[0m: name 'loss_fn' is not defined"
     ]
    }
   ],
   "source": [
    "from torch import nn\n",
    "\n",
    "loss = nn.MarginRankingLoss(margin=margin, reduction='mean')\n",
    "\n",
    "target = -torch.ones(anchors[1].size()[0])\n",
    "\n",
    "triplet_loss = loss(distance_to_positive, distance_to_negative, target) # = d2positive - d2negative + margin\n",
    "\n",
    "triplet_loss"
   ]
  },
  {
   "cell_type": "code",
   "execution_count": null,
   "metadata": {},
   "outputs": [],
   "source": [
    "def KNN(mat, k):\n",
    "    mat = mat.float()\n",
    "    mat_square = torch.mm(mat, mat.t())\n",
    "    diag = torch.diagonal(mat_square)\n",
    "    diag = diag.expand_as(mat_square)\n",
    "    dist_mat = (diag + diag.t() - 2 * mat_square)\n",
    "    dist_col = dist_mat[-1, :-1]\n",
    "    # k+1 because the nearest must be itself\n",
    "    val, index = dist_col.topk(k, largest=False, sorted=True)\n",
    "    return val, index\n",
    "\n",
    "\n",
    "a = KNN(query_vectors, 20)"
   ]
  }
 ],
 "metadata": {
  "kernelspec": {
   "display_name": "Python 3",
   "language": "python",
   "name": "python3"
  },
  "language_info": {
   "codemirror_mode": {
    "name": "ipython",
    "version": 3
   },
   "file_extension": ".py",
   "mimetype": "text/x-python",
   "name": "python",
   "nbconvert_exporter": "python",
   "pygments_lexer": "ipython3",
   "version": "3.7.1"
  }
 },
 "nbformat": 4,
 "nbformat_minor": 2
}
