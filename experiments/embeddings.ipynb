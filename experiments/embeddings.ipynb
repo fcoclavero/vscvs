{
 "cells": [
  {
   "cell_type": "code",
   "execution_count": 144,
   "metadata": {},
   "outputs": [],
   "source": [
    "%matplotlib inline\n",
    "\n",
    "import sys\n",
    "\n",
    "sys.path.append(\"..\")"
   ]
  },
  {
   "cell_type": "code",
   "execution_count": 124,
   "metadata": {},
   "outputs": [],
   "source": [
    "import os\n",
    "import pickle\n",
    "import shutil\n",
    "import torch\n",
    "\n",
    "from torch.nn import PairwiseDistance, CosineSimilarity\n",
    "from torch.utils.data import DataLoader\n",
    "from torchvision import transforms\n",
    "from tqdm import tqdm_notebook as tqdm\n",
    "\n",
    "from src.datasets import get_dataset, get_dataset_class_names\n",
    "from src.models.hog import HOGLayer\n",
    "from src.utils import get_device\n",
    "from src.visualization import plot_image_batch, plot_image"
   ]
  },
  {
   "cell_type": "code",
   "execution_count": 125,
   "metadata": {},
   "outputs": [],
   "source": [
    "dataset_name = 'sketchy_sketches'\n",
    "embedding_directory_name = 'hog_sketches_gist'\n",
    "query_image_filename = r'C:\\Users\\Chopan\\Documents\\Data\\sketchy\\sketch\\tx_000000000000\\swan\\n01858441_2970-2.png'\n",
    "in_channels = 3\n",
    "cell_size = 24\n",
    "n_bins = 9\n",
    "signed_gradients = False\n",
    "batch_size = 32\n",
    "workers = 6\n",
    "n_gpu = 0\n",
    "k = 16\n",
    "distance = 'cosine'"
   ]
  },
  {
   "cell_type": "code",
   "execution_count": 121,
   "metadata": {},
   "outputs": [],
   "source": [
    "device = get_device(n_gpu)\n",
    "dataset = get_dataset(dataset_name, transforms.Grayscale(num_output_channels=1))\n",
    "model = HOGLayer()\n",
    "model = model.to(device)"
   ]
  },
  {
   "cell_type": "markdown",
   "metadata": {},
   "source": [
    "---"
   ]
  },
  {
   "cell_type": "code",
   "execution_count": 49,
   "metadata": {},
   "outputs": [
    {
     "data": {
      "application/vnd.jupyter.widget-view+json": {
       "model_id": "0235b42028c14fd9b8c92ed0381f4312",
       "version_major": 2,
       "version_minor": 0
      },
      "text/plain": [
       "HBox(children=(IntProgress(value=0, max=75481), HTML(value='')))"
      ]
     },
     "metadata": {},
     "output_type": "display_data"
    }
   ],
   "source": [
    "outputs = []\n",
    "\n",
    "for i, data in tqdm(enumerate(dataset), total=len(dataset)):\n",
    "    image, label = data\n",
    "    image = image.to(device)\n",
    "    output = model(image.unsqueeze(0))\n",
    "    outputs.append(output)\n",
    "    \n",
    "embeddings = torch.cat(outputs)"
   ]
  },
  {
   "cell_type": "code",
   "execution_count": 52,
   "metadata": {},
   "outputs": [],
   "source": [
    "import pickle\n",
    "\n",
    "pickle.dump(outputs, open(r'outputs.pickle', 'wb'))"
   ]
  },
  {
   "cell_type": "code",
   "execution_count": 122,
   "metadata": {},
   "outputs": [
    {
     "data": {
      "image/png": "[encoded data removed]",
      "text/plain": [
       "<Figure size 576x576 with 1 Axes>"
      ]
     },
     "metadata": {
      "needs_background": "light"
     },
     "output_type": "display_data"
    }
   ],
   "source": [
    "image, image_class = dataset[12435]\n",
    "image = image.to(device)\n",
    "plot_image_batch([image, image_class])"
   ]
  },
  {
   "cell_type": "code",
   "execution_count": 92,
   "metadata": {},
   "outputs": [
    {
     "name": "stdout",
     "output_type": "stream",
     "text": [
      "query image class = airplane\n",
      "distances = tensor([1.0000, 0.9082, 0.9082, 0.9078, 0.9077, 0.9077, 0.9076, 0.9075, 0.9075,\n",
      "        0.9072, 0.9072, 0.9072, 0.9072, 0.9072, 0.9071, 0.9071])\n",
      "classes = ['airplane', 'ant', 'ant', 'crab', 'ant', 'ant', 'bee', 'helicopter', 'bee', 'rocket', 'cat', 'sword', 'frog', 'bee', 'racket', 'scorpion']\n",
      "indexes = tensor([    0,  1824,  1668, 18663,  1702,  1776,  6654, 32164,  6466, 52433,\n",
      "        14656, 65304, 26501,  6468, 50153, 55206])\n"
     ]
    },
    {
     "data": {
      "image/png": "[encoded data removed]",
      "text/plain": [
       "<Figure size 576x576 with 1 Axes>"
      ]
     },
     "metadata": {
      "needs_background": "light"
     },
     "output_type": "display_data"
    }
   ],
   "source": [
    "query_embedding = model(image.unsqueeze(0))\n",
    "p_dist = PairwiseDistance(p=2) if distance == 'pairwise' else CosineSimilarity()\n",
    "distances = p_dist(embeddings, query_embedding)\n",
    "# Return the top k results\n",
    "top_distances, top_indices = torch.topk(distances, k)\n",
    "aux = [dataset[j] for j in top_indices]\n",
    "image_tensors = torch.stack([tup[0] for tup in aux])\n",
    "image_classes = [tup[1] for tup in aux]\n",
    "image_class_names = get_dataset_class_names(dataset_name)\n",
    "print('query image class = {}'.format(image_class_names[image_class]))\n",
    "print('distances = {}'.format(top_distances))\n",
    "print('classes = {}'.format([image_class_names[class_name] for class_name in image_classes]))\n",
    "print('indexes = {}'.format(top_indices))\n",
    "plot_image_batch([image_tensors, image_classes])"
   ]
  },
  {
   "cell_type": "code",
   "execution_count": 93,
   "metadata": {},
   "outputs": [
    {
     "name": "stdout",
     "output_type": "stream",
     "text": [
      "query image class = airplane\n",
      "distances = tensor([1.0000, 0.9082, 0.9082, 0.9078, 0.9077, 0.9077, 0.9076, 0.9075, 0.9075,\n",
      "        0.9072, 0.9072, 0.9072, 0.9072, 0.9072, 0.9071, 0.9071])\n",
      "classes = ['airplane', 'ant', 'ant', 'crab', 'ant', 'ant', 'bee', 'helicopter', 'bee', 'rocket', 'cat', 'sword', 'frog', 'bee', 'racket', 'scorpion']\n",
      "indexes = tensor([    0,  1824,  1668, 18663,  1702,  1776,  6654, 32164,  6466, 52433,\n",
      "        14656, 65304, 26501,  6468, 50153, 55206])\n"
     ]
    },
    {
     "data": {
      "image/png": "[encoded data removed]",
      "text/plain": [
       "<Figure size 576x576 with 1 Axes>"
      ]
     },
     "metadata": {
      "needs_background": "light"
     },
     "output_type": "display_data"
    }
   ],
   "source": [
    "query_embedding = embeddings[0].unsqueeze(0)\n",
    "p_dist = PairwiseDistance(p=2) if distance == 'pairwise' else CosineSimilarity()\n",
    "distances = p_dist(embeddings, query_embedding)\n",
    "# Return the top k results\n",
    "top_distances, top_indices = torch.topk(distances, k)\n",
    "aux = [dataset[j] for j in top_indices]\n",
    "image_tensors = torch.stack([tup[0] for tup in aux])\n",
    "image_classes = [tup[1] for tup in aux]\n",
    "image_class_names = get_dataset_class_names(dataset_name)\n",
    "print('query image class = {}'.format(image_class_names[image_class]))\n",
    "print('distances = {}'.format(top_distances))\n",
    "print('classes = {}'.format([image_class_names[class_name] for class_name in image_classes]))\n",
    "print('indexes = {}'.format(top_indices))\n",
    "plot_image_batch([image_tensors, image_classes])"
   ]
  },
  {
   "cell_type": "code",
   "execution_count": 94,
   "metadata": {},
   "outputs": [
    {
     "data": {
      "text/plain": [
       "tensor([[0.8750, 1.0000, 1.0000,  ..., 0.0000, 0.0000, 0.0000]])"
      ]
     },
     "execution_count": 94,
     "metadata": {},
     "output_type": "execute_result"
    }
   ],
   "source": [
    "model(image.unsqueeze(0))"
   ]
  },
  {
   "cell_type": "code",
   "execution_count": 95,
   "metadata": {},
   "outputs": [
    {
     "data": {
      "text/plain": [
       "torch.Size([1, 10240])"
      ]
     },
     "execution_count": 95,
     "metadata": {},
     "output_type": "execute_result"
    }
   ],
   "source": [
    "model(image.unsqueeze(0)).shape"
   ]
  },
  {
   "cell_type": "code",
   "execution_count": 96,
   "metadata": {},
   "outputs": [
    {
     "data": {
      "text/plain": [
       "tensor([[0.8750, 1.0000, 1.0000,  ..., 0.0000, 0.0000, 0.0000]])"
      ]
     },
     "execution_count": 96,
     "metadata": {},
     "output_type": "execute_result"
    }
   ],
   "source": [
    "embeddings[0].unsqueeze(0)"
   ]
  },
  {
   "cell_type": "code",
   "execution_count": 97,
   "metadata": {},
   "outputs": [
    {
     "data": {
      "text/plain": [
       "torch.Size([1, 10240])"
      ]
     },
     "execution_count": 97,
     "metadata": {},
     "output_type": "execute_result"
    }
   ],
   "source": [
    "embeddings[0].unsqueeze(0).shape"
   ]
  },
  {
   "cell_type": "code",
   "execution_count": 98,
   "metadata": {},
   "outputs": [
    {
     "data": {
      "text/plain": [
       "tensor([[1, 1, 1,  ..., 1, 1, 1]], dtype=torch.uint8)"
      ]
     },
     "execution_count": 98,
     "metadata": {},
     "output_type": "execute_result"
    }
   ],
   "source": [
    "model(image.unsqueeze(0)) == embeddings[0].unsqueeze(0)"
   ]
  },
  {
   "cell_type": "code",
   "execution_count": 99,
   "metadata": {},
   "outputs": [
    {
     "data": {
      "text/plain": [
       "tensor(1, dtype=torch.uint8)"
      ]
     },
     "execution_count": 99,
     "metadata": {},
     "output_type": "execute_result"
    }
   ],
   "source": [
    "(model(image.unsqueeze(0)) == embeddings[0].unsqueeze(0)).any()"
   ]
  },
  {
   "cell_type": "code",
   "execution_count": 100,
   "metadata": {},
   "outputs": [
    {
     "data": {
      "text/plain": [
       "tensor(10240)"
      ]
     },
     "execution_count": 100,
     "metadata": {},
     "output_type": "execute_result"
    }
   ],
   "source": [
    "(model(image.unsqueeze(0)) == embeddings[0].unsqueeze(0)).sum()"
   ]
  },
  {
   "cell_type": "markdown",
   "metadata": {},
   "source": [
    "---\n",
    "\n",
    "So now that I'm sure that it works iterating over the dataset, I will try with the dataloader."
   ]
  },
  {
   "cell_type": "code",
   "execution_count": 106,
   "metadata": {},
   "outputs": [
    {
     "data": {
      "application/vnd.jupyter.widget-view+json": {
       "model_id": "c9b4c939002743be824aa3f4013696a4",
       "version_major": 2,
       "version_minor": 0
      },
      "text/plain": [
       "HBox(children=(IntProgress(value=0, max=2359), HTML(value='')))"
      ]
     },
     "metadata": {},
     "output_type": "display_data"
    }
   ],
   "source": [
    "data_loader = DataLoader(dataset, batch_size=batch_size, shuffle=False, num_workers=workers)\n",
    "\n",
    "output_batches = []\n",
    "\n",
    "for i, data in tqdm(enumerate(data_loader, 0), total=len(data_loader)):  # iterate batches\n",
    "    inputs, labels = data\n",
    "    outputs = model(inputs.to(device))\n",
    "    output_batches.append(outputs)"
   ]
  },
  {
   "cell_type": "code",
   "execution_count": 107,
   "metadata": {},
   "outputs": [],
   "source": [
    "import pickle\n",
    "\n",
    "pickle.dump(outputs, open(r'outputs_batches.pickle', 'wb'))"
   ]
  },
  {
   "cell_type": "code",
   "execution_count": 109,
   "metadata": {},
   "outputs": [],
   "source": [
    "embeddings = torch.cat(output_batches)"
   ]
  },
  {
   "cell_type": "code",
   "execution_count": 110,
   "metadata": {},
   "outputs": [
    {
     "data": {
      "text/plain": [
       "torch.Size([75481, 10240])"
      ]
     },
     "execution_count": 110,
     "metadata": {},
     "output_type": "execute_result"
    }
   ],
   "source": [
    "embeddings.shape"
   ]
  },
  {
   "cell_type": "code",
   "execution_count": 118,
   "metadata": {},
   "outputs": [
    {
     "name": "stdout",
     "output_type": "stream",
     "text": [
      "query image class = candle\n",
      "distances = tensor([1.0000, 0.9781, 0.9769, 0.9753, 0.9753, 0.9750, 0.9748, 0.9748, 0.9747,\n",
      "        0.9747, 0.9746, 0.9743, 0.9743, 0.9743, 0.9741, 0.9739])\n",
      "classes = ['candle', 'candle', 'candle', 'candle', 'sword', 'candle', 'blimp', 'chair', 'candle', 'rocket', 'candle', 'spoon', 'candle', 'candle', 'dog', 'blimp']\n",
      "indexes = tensor([12435, 12570, 12537, 12422, 65171, 12569,  9257, 15621, 12423, 52424,\n",
      "        12419, 62558, 12540, 12432, 21110,  9461])\n"
     ]
    },
    {
     "data": {
      "image/png": "[encoded data removed]",
      "text/plain": [
       "<Figure size 576x576 with 1 Axes>"
      ]
     },
     "metadata": {
      "needs_background": "light"
     },
     "output_type": "display_data"
    }
   ],
   "source": [
    "query_embedding = model(image.unsqueeze(0))\n",
    "p_dist = PairwiseDistance(p=2) if distance == 'pairwise' else CosineSimilarity()\n",
    "distances = p_dist(embeddings, query_embedding)\n",
    "# Return the top k results\n",
    "top_distances, top_indices = torch.topk(distances, k)\n",
    "aux = [dataset[j] for j in top_indices]\n",
    "image_tensors = torch.stack([tup[0] for tup in aux])\n",
    "image_classes = [tup[1] for tup in aux]\n",
    "image_class_names = get_dataset_class_names(dataset_name)\n",
    "print('query image class = {}'.format(image_class_names[image_class]))\n",
    "print('distances = {}'.format(top_distances))\n",
    "print('classes = {}'.format([image_class_names[class_name] for class_name in image_classes]))\n",
    "print('indexes = {}'.format(top_indices))\n",
    "plot_image_batch([image_tensors, image_classes])"
   ]
  },
  {
   "cell_type": "markdown",
   "metadata": {},
   "source": [
    "---"
   ]
  },
  {
   "cell_type": "code",
   "execution_count": 131,
   "metadata": {},
   "outputs": [],
   "source": [
    "from src.models.hog import HOG\n",
    "n_gpu = 1\n",
    "device = get_device(n_gpu)\n",
    "dataset = get_dataset(dataset_name)\n",
    "model = HOG(in_channels, cell_size, n_bins, signed_gradients)\n",
    "model = model.to(device)"
   ]
  },
  {
   "cell_type": "code",
   "execution_count": 132,
   "metadata": {},
   "outputs": [
    {
     "data": {
      "application/vnd.jupyter.widget-view+json": {
       "model_id": "5caacec959104ac483622965ac81ea2d",
       "version_major": 2,
       "version_minor": 0
      },
      "text/plain": [
       "HBox(children=(IntProgress(value=0, max=2359), HTML(value='')))"
      ]
     },
     "metadata": {},
     "output_type": "display_data"
    }
   ],
   "source": [
    "data_loader = DataLoader(dataset, batch_size=batch_size, shuffle=False, num_workers=workers)\n",
    "\n",
    "output_batches = []\n",
    "\n",
    "for i, data in tqdm(enumerate(data_loader, 0), total=len(data_loader)):  # iterate batches\n",
    "    inputs, labels = data\n",
    "    outputs = model(inputs.to(device))\n",
    "    pickle.dump(outputs.to('cpu'), open(os.path.join('asd', 'batch_{}.pickle'.format(i)), 'wb'))"
   ]
  },
  {
   "cell_type": "code",
   "execution_count": 133,
   "metadata": {},
   "outputs": [
    {
     "data": {
      "application/vnd.jupyter.widget-view+json": {
       "model_id": "fe94b81a5cea4a75bdc7b0f0dbb0895d",
       "version_major": 2,
       "version_minor": 0
      },
      "text/plain": [
       "HBox(children=(IntProgress(value=0, description='Loading hog_sketches_gist embeddings', max=2359, style=Progre…"
      ]
     },
     "metadata": {},
     "output_type": "display_data"
    }
   ],
   "source": [
    "embedding_directory = 'asd'\n",
    "\n",
    "embeddings = torch.cat([\n",
    "    pickle.load(open(os.path.join(embedding_directory, f), 'rb')).to(device)\n",
    "    for f in tqdm(os.listdir(embedding_directory), desc='Loading {} embeddings'.format(embedding_directory_name))\n",
    "    if 'tsne' not in f # skip possible projection pickle in the embedding directory\n",
    "])"
   ]
  },
  {
   "cell_type": "code",
   "execution_count": 136,
   "metadata": {},
   "outputs": [
    {
     "data": {
      "text/plain": [
       "torch.Size([75481, 900])"
      ]
     },
     "execution_count": 136,
     "metadata": {},
     "output_type": "execute_result"
    }
   ],
   "source": [
    "embeddings.shape"
   ]
  },
  {
   "cell_type": "code",
   "execution_count": 137,
   "metadata": {},
   "outputs": [
    {
     "data": {
      "image/png": "[encoded data removed]",
      "text/plain": [
       "<Figure size 576x576 with 1 Axes>"
      ]
     },
     "metadata": {
      "needs_background": "light"
     },
     "output_type": "display_data"
    }
   ],
   "source": [
    "image, image_class = dataset[12435]\n",
    "image = image.to(device)\n",
    "plot_image_batch([image, image_class])"
   ]
  },
  {
   "cell_type": "code",
   "execution_count": 138,
   "metadata": {},
   "outputs": [
    {
     "name": "stdout",
     "output_type": "stream",
     "text": [
      "query image class = candle\n",
      "distances = tensor([1.0000, 0.9292, 0.9250, 0.9032, 0.9005, 0.8990, 0.8899, 0.8884, 0.8880,\n",
      "        0.8864, 0.8847, 0.8835, 0.8798, 0.8794, 0.8778, 0.8767],\n",
      "       device='cuda:0')\n",
      "classes = ['saxophone', 'saxophone', 'door', 'bee', 'pizza', 'kangaroo', 'owl', 'door', 'duck', 'saxophone', 'wheelchair', 'bee', 'kangaroo', 'saxophone', 'fan', 'apple']\n",
      "indexes = tensor([53772, 54028, 22274,  6280, 47142, 37054, 41562, 22645, 22912, 54053,\n",
      "        72583,  6340, 37127, 54054, 25204,  2600], device='cuda:0')\n"
     ]
    },
    {
     "data": {
      "image/png": "[encoded data removed]",
      "text/plain": [
       "<Figure size 576x576 with 1 Axes>"
      ]
     },
     "metadata": {
      "needs_background": "light"
     },
     "output_type": "display_data"
    }
   ],
   "source": [
    "query_embedding = model(image.unsqueeze(0))\n",
    "p_dist = PairwiseDistance(p=2) if distance == 'pairwise' else CosineSimilarity()\n",
    "distances = p_dist(embeddings, query_embedding)\n",
    "# Return the top k results\n",
    "top_distances, top_indices = torch.topk(distances, k)\n",
    "aux = [dataset[j] for j in top_indices]\n",
    "image_tensors = torch.stack([tup[0] for tup in aux])\n",
    "image_classes = [tup[1] for tup in aux]\n",
    "image_class_names = get_dataset_class_names(dataset_name)\n",
    "print('query image class = {}'.format(image_class_names[image_class]))\n",
    "print('distances = {}'.format(top_distances))\n",
    "print('classes = {}'.format([image_class_names[class_name] for class_name in image_classes]))\n",
    "print('indexes = {}'.format(top_indices))\n",
    "plot_image_batch([image_tensors, image_classes])"
   ]
  },
  {
   "cell_type": "markdown",
   "metadata": {},
   "source": [
    "---"
   ]
  },
  {
   "cell_type": "code",
   "execution_count": 141,
   "metadata": {},
   "outputs": [
    {
     "data": {
      "application/vnd.jupyter.widget-view+json": {
       "model_id": "49cb0ee9c5904b59be2437e866231a8b",
       "version_major": 2,
       "version_minor": 0
      },
      "text/plain": [
       "HBox(children=(IntProgress(value=0, max=2359), HTML(value='')))"
      ]
     },
     "metadata": {},
     "output_type": "display_data"
    }
   ],
   "source": [
    "data_loader = DataLoader(dataset, batch_size=batch_size, shuffle=False, num_workers=workers)\n",
    "\n",
    "output_batches = []\n",
    "\n",
    "for i, data in tqdm(enumerate(data_loader, 0), total=len(data_loader)):  # iterate batches\n",
    "    inputs, labels = data\n",
    "    outputs = model(inputs.to(device))\n",
    "    output_batches.append(outputs.to('cpu'))"
   ]
  },
  {
   "cell_type": "code",
   "execution_count": 142,
   "metadata": {},
   "outputs": [
    {
     "data": {
      "text/plain": [
       "torch.Size([75481, 900])"
      ]
     },
     "execution_count": 142,
     "metadata": {},
     "output_type": "execute_result"
    }
   ],
   "source": [
    "embeddings = torch.cat(output_batches)\n",
    "embeddings.shape"
   ]
  },
  {
   "cell_type": "code",
   "execution_count": 146,
   "metadata": {},
   "outputs": [
    {
     "name": "stdout",
     "output_type": "stream",
     "text": [
      "query image class = candle\n",
      "distances = tensor([1.0000, 0.9292, 0.9250, 0.9032, 0.9005, 0.8990, 0.8899, 0.8884, 0.8880,\n",
      "        0.8864, 0.8847, 0.8835, 0.8798, 0.8794, 0.8778, 0.8767])\n",
      "classes = ['candle', 'candle', 'rocket', 'knife', 'wine_bottle', 'sword', 'trumpet', 'rocket', 'rocket', 'candle', 'hammer', 'knife', 'sword', 'candle', 'scissors', 'hotdog']\n",
      "indexes = tensor([12435, 12659, 51970, 37576, 74342, 65278, 69338, 52309, 52544, 12684,\n",
      "        29358, 37636, 65319, 12685, 54612, 34248])\n"
     ]
    },
    {
     "data": {
      "image/png": "[encoded data removed]",
      "text/plain": [
       "<Figure size 576x576 with 1 Axes>"
      ]
     },
     "metadata": {
      "needs_background": "light"
     },
     "output_type": "display_data"
    }
   ],
   "source": [
    "query_embedding = model(image.unsqueeze(0)).to('cpu')\n",
    "p_dist = PairwiseDistance(p=2) if distance == 'pairwise' else CosineSimilarity()\n",
    "distances = p_dist(embeddings, query_embedding)\n",
    "# Return the top k results\n",
    "top_distances, top_indices = torch.topk(distances, k)\n",
    "aux = [dataset[j] for j in top_indices]\n",
    "image_tensors = torch.stack([tup[0] for tup in aux])\n",
    "image_classes = [tup[1] for tup in aux]\n",
    "image_class_names = get_dataset_class_names(dataset_name)\n",
    "print('query image class = {}'.format(image_class_names[image_class]))\n",
    "print('distances = {}'.format(top_distances))\n",
    "print('classes = {}'.format([image_class_names[class_name] for class_name in image_classes]))\n",
    "print('indexes = {}'.format(top_indices))\n",
    "plot_image_batch([image_tensors, image_classes])"
   ]
  },
  {
   "cell_type": "markdown",
   "metadata": {},
   "source": [
    "Mi HOG funciona mejor."
   ]
  }
 ],
 "metadata": {
  "kernelspec": {
   "display_name": "python3_custom",
   "language": "python",
   "name": "python3_custom"
  },
  "language_info": {
   "codemirror_mode": {
    "name": "ipython",
    "version": 3
   },
   "file_extension": ".py",
   "mimetype": "text/x-python",
   "name": "python",
   "nbconvert_exporter": "python",
   "pygments_lexer": "ipython3",
   "version": "3.7.3"
  }
 },
 "nbformat": 4,
 "nbformat_minor": 2
}
