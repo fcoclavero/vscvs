{
 "cells": [
  {
   "cell_type": "code",
   "execution_count": 2,
   "metadata": {},
   "outputs": [],
   "source": [
    "%matplotlib inline\n",
    "\n",
    "import sys\n",
    "\n",
    "sys.path.append(\"..\")"
   ]
  },
  {
   "cell_type": "code",
   "execution_count": 5,
   "metadata": {},
   "outputs": [
    {
     "data": {
      "text/plain": [
       "TripletNetwork(\n",
       "  (embedding_network): ConvolutionalNetwork(\n",
       "    (convolution_1): Conv2d(3, 6, kernel_size=(5, 5), stride=(1, 1))\n",
       "    (convolution_2): Conv2d(6, 16, kernel_size=(5, 5), stride=(1, 1))\n",
       "    (convolution_3): Conv2d(16, 20, kernel_size=(4, 4), stride=(1, 1))\n",
       "    (fully_connected_1): Linear(in_features=16820, out_features=15000, bias=True)\n",
       "    (fully_connected_2): Linear(in_features=15000, out_features=1200, bias=True)\n",
       "    (fully_connected_3): Linear(in_features=1200, out_features=125, bias=True)\n",
       "  )\n",
       ")"
      ]
     },
     "execution_count": 5,
     "metadata": {},
     "output_type": "execute_result"
    }
   ],
   "source": [
    "import os, pickle, torch\n",
    "\n",
    "from settings import ROOT_DIR\n",
    "\n",
    "net = pickle.load(open(os.path.join(ROOT_DIR, 'static', 'pickles', 'triplet_cnn.pickle'), 'rb'))\n",
    "net"
   ]
  },
  {
   "cell_type": "code",
   "execution_count": 18,
   "metadata": {},
   "outputs": [],
   "source": [
    "from torch.utils.data.dataloader import default_collate\n",
    "\n",
    "from src.datasets import get_dataset\n",
    "\n",
    "dataset_name = 'sketchy_test_photos_triplets'\n",
    "batch_size = 1\n",
    "workers = 4\n",
    "collate = default_collate\n",
    "\n",
    "dataset = get_dataset(dataset_name)\n",
    "\n",
    "data_loader = torch.utils.data.DataLoader(\n",
    "    dataset, batch_size=batch_size, shuffle=True,\n",
    "    num_workers=workers, collate_fn=collate\n",
    ")\n",
    "\n",
    "real_batch = next(iter(data_loader))\n",
    "\n",
    "query_image = real_batch[0][0]\n",
    "query_class = real_batch[0][1]"
   ]
  },
  {
   "cell_type": "code",
   "execution_count": 22,
   "metadata": {},
   "outputs": [
    {
     "data": {
      "text/plain": [
       "tensor([[nan, nan, nan, nan, nan, nan, nan, nan, nan, nan, nan, nan, nan, nan, nan, nan, nan, nan, nan, nan, nan, nan, nan, nan,\n",
       "         nan, nan, nan, nan, nan, nan, nan, nan, nan, nan, nan, nan, nan, nan, nan, nan, nan, nan, nan, nan, nan, nan, nan, nan,\n",
       "         nan, nan, nan, nan, nan, nan, nan, nan, nan, nan, nan, nan, nan, nan, nan, nan, nan, nan, nan, nan, nan, nan, nan, nan,\n",
       "         nan, nan, nan, nan, nan, nan, nan, nan, nan, nan, nan, nan, nan, nan, nan, nan, nan, nan, nan, nan, nan, nan, nan, nan,\n",
       "         nan, nan, nan, nan, nan, nan, nan, nan, nan, nan, nan, nan, nan, nan, nan, nan, nan, nan, nan, nan, nan, nan, nan, nan,\n",
       "         nan, nan, nan, nan, nan]], grad_fn=<LogSoftmaxBackward>)"
      ]
     },
     "execution_count": 22,
     "metadata": {},
     "output_type": "execute_result"
    }
   ],
   "source": [
    "query_vector = net.embedding_network(query_image)\n",
    "query_vector"
   ]
  },
  {
   "cell_type": "code",
   "execution_count": 28,
   "metadata": {},
   "outputs": [
    {
     "name": "stdout",
     "output_type": "stream",
     "text": [
      "ConvolutionalNetwork(\n",
      "  (convolution_1): Conv2d(3, 6, kernel_size=(5, 5), stride=(1, 1))\n",
      "  (convolution_2): Conv2d(6, 16, kernel_size=(5, 5), stride=(1, 1))\n",
      "  (convolution_3): Conv2d(16, 20, kernel_size=(4, 4), stride=(1, 1))\n",
      "  (fully_connected_1): Linear(in_features=16820, out_features=15000, bias=True)\n",
      "  (fully_connected_2): Linear(in_features=15000, out_features=1200, bias=True)\n",
      "  (fully_connected_3): Linear(in_features=1200, out_features=125, bias=True)\n",
      ")\n"
     ]
    }
   ],
   "source": [
    "from src.models.convolutional_network import ConvolutionalNetwork\n",
    "\n",
    "convnet = ConvolutionalNetwork()\n",
    "print(convnet)"
   ]
  },
  {
   "cell_type": "code",
   "execution_count": 29,
   "metadata": {},
   "outputs": [
    {
     "data": {
      "text/plain": [
       "tensor([[-4.8535, -4.7973, -4.8424, -4.8400, -4.7967, -4.8527, -4.8393, -4.8227,\n",
       "         -4.8279, -4.8062, -4.8286, -4.8479, -4.8062, -4.8112, -4.7917, -4.8186,\n",
       "         -4.8497, -4.8030, -4.8277, -4.8367, -4.8279, -4.8289, -4.8425, -4.8486,\n",
       "         -4.8310, -4.8033, -4.8355, -4.8037, -4.8356, -4.8474, -4.8170, -4.8349,\n",
       "         -4.8339, -4.8485, -4.8468, -4.8439, -4.8153, -4.8540, -4.8122, -4.8471,\n",
       "         -4.8368, -4.8157, -4.8259, -4.8494, -4.8065, -4.8016, -4.8244, -4.8534,\n",
       "         -4.8173, -4.8481, -4.8271, -4.8174, -4.8236, -4.7975, -4.8414, -4.8170,\n",
       "         -4.8446, -4.8278, -4.8205, -4.8351, -4.8579, -4.8286, -4.8051, -4.8120,\n",
       "         -4.8518, -4.8096, -4.8306, -4.8204, -4.8386, -4.8059, -4.8369, -4.8024,\n",
       "         -4.8467, -4.8411, -4.8491, -4.8198, -4.8043, -4.8470, -4.8493, -4.7957,\n",
       "         -4.8527, -4.8528, -4.8419, -4.8162, -4.8330, -4.8415, -4.8489, -4.8005,\n",
       "         -4.8331, -4.8071, -4.8459, -4.8365, -4.8213, -4.8360, -4.8317, -4.8579,\n",
       "         -4.8324, -4.8232, -4.8249, -4.8107, -4.8059, -4.8180, -4.8373, -4.8067,\n",
       "         -4.8384, -4.8446, -4.8558, -4.8437, -4.8394, -4.8111, -4.8248, -4.8132,\n",
       "         -4.8261, -4.8173, -4.8360, -4.8395, -4.7952, -4.8552, -4.8207, -4.8333,\n",
       "         -4.8508, -4.8166, -4.8377, -4.7941, -4.8073]],\n",
       "       grad_fn=<LogSoftmaxBackward>)"
      ]
     },
     "execution_count": 29,
     "metadata": {},
     "output_type": "execute_result"
    }
   ],
   "source": [
    "vector = convnet(query_image)\n",
    "vector"
   ]
  },
  {
   "cell_type": "markdown",
   "metadata": {},
   "source": [
    "---"
   ]
  },
  {
   "cell_type": "code",
   "execution_count": 1,
   "metadata": {},
   "outputs": [],
   "source": [
    "%matplotlib inline\n",
    "\n",
    "import sys\n",
    "\n",
    "sys.path.append(\"..\")"
   ]
  },
  {
   "cell_type": "code",
   "execution_count": 2,
   "metadata": {},
   "outputs": [],
   "source": [
    "from src.models.triplet_network import TripletNetwork\n",
    "from src.models.convolutional_network import ConvolutionalNetwork\n",
    "\n",
    "convnet = ConvolutionalNetwork()\n",
    "net = TripletNetwork(convnet)"
   ]
  },
  {
   "cell_type": "code",
   "execution_count": 3,
   "metadata": {},
   "outputs": [
    {
     "data": {
      "text/plain": [
       "<bound method Module.state_dict of TripletNetwork(\n",
       "  (embedding_network): ConvolutionalNetwork(\n",
       "    (convolution_1): Conv2d(3, 6, kernel_size=(5, 5), stride=(1, 1))\n",
       "    (convolution_2): Conv2d(6, 16, kernel_size=(5, 5), stride=(1, 1))\n",
       "    (convolution_3): Conv2d(16, 20, kernel_size=(4, 4), stride=(1, 1))\n",
       "    (fully_connected_1): Linear(in_features=16820, out_features=15000, bias=True)\n",
       "    (fully_connected_2): Linear(in_features=15000, out_features=1200, bias=True)\n",
       "    (fully_connected_3): Linear(in_features=1200, out_features=125, bias=True)\n",
       "  )\n",
       ")>"
      ]
     },
     "execution_count": 3,
     "metadata": {},
     "output_type": "execute_result"
    }
   ],
   "source": [
    "net.state_dict"
   ]
  },
  {
   "cell_type": "code",
   "execution_count": 4,
   "metadata": {},
   "outputs": [
    {
     "data": {
      "text/plain": [
       "<bound method Module.state_dict of TripletNetwork(\n",
       "  (embedding_network): ConvolutionalNetwork(\n",
       "    (convolution_1): Conv2d(3, 6, kernel_size=(5, 5), stride=(1, 1))\n",
       "    (convolution_2): Conv2d(6, 16, kernel_size=(5, 5), stride=(1, 1))\n",
       "    (convolution_3): Conv2d(16, 20, kernel_size=(4, 4), stride=(1, 1))\n",
       "    (fully_connected_1): Linear(in_features=16820, out_features=15000, bias=True)\n",
       "    (fully_connected_2): Linear(in_features=15000, out_features=1200, bias=True)\n",
       "    (fully_connected_3): Linear(in_features=1200, out_features=125, bias=True)\n",
       "  )\n",
       ")>"
      ]
     },
     "execution_count": 4,
     "metadata": {},
     "output_type": "execute_result"
    }
   ],
   "source": [
    "import torch\n",
    "\n",
    "torch.save(net, 'net.pth')\n",
    "\n",
    "loaded_net = torch.load('net.pth')\n",
    "\n",
    "loaded_net.state_dict"
   ]
  },
  {
   "cell_type": "code",
   "execution_count": 6,
   "metadata": {},
   "outputs": [],
   "source": [
    "checkpoint = {\n",
    "    'vector_dimension': 300,\n",
    "    'epochs': 10,\n",
    "    'batch_size': 64,\n",
    "    'convnet': convnet,\n",
    "    'net': net\n",
    "}"
   ]
  },
  {
   "cell_type": "code",
   "execution_count": 8,
   "metadata": {},
   "outputs": [],
   "source": [
    "import torch\n",
    "\n",
    "torch.save(checkpoint, 'checkpoint.pth')"
   ]
  },
  {
   "cell_type": "code",
   "execution_count": 9,
   "metadata": {},
   "outputs": [],
   "source": [
    "import torch\n",
    "\n",
    "restored_checkpoint = torch.load('checkpoint.pth')"
   ]
  },
  {
   "cell_type": "code",
   "execution_count": 10,
   "metadata": {},
   "outputs": [
    {
     "data": {
      "text/plain": [
       "{'vector_dimension': 300,\n",
       " 'epochs': 10,\n",
       " 'batch_size': 64,\n",
       " 'convnet': ConvolutionalNetwork(\n",
       "   (convolution_1): Conv2d(3, 6, kernel_size=(5, 5), stride=(1, 1))\n",
       "   (convolution_2): Conv2d(6, 16, kernel_size=(5, 5), stride=(1, 1))\n",
       "   (convolution_3): Conv2d(16, 20, kernel_size=(4, 4), stride=(1, 1))\n",
       "   (fully_connected_1): Linear(in_features=16820, out_features=15000, bias=True)\n",
       "   (fully_connected_2): Linear(in_features=15000, out_features=1200, bias=True)\n",
       "   (fully_connected_3): Linear(in_features=1200, out_features=125, bias=True)\n",
       " ),\n",
       " 'net': TripletNetwork(\n",
       "   (embedding_network): ConvolutionalNetwork(\n",
       "     (convolution_1): Conv2d(3, 6, kernel_size=(5, 5), stride=(1, 1))\n",
       "     (convolution_2): Conv2d(6, 16, kernel_size=(5, 5), stride=(1, 1))\n",
       "     (convolution_3): Conv2d(16, 20, kernel_size=(4, 4), stride=(1, 1))\n",
       "     (fully_connected_1): Linear(in_features=16820, out_features=15000, bias=True)\n",
       "     (fully_connected_2): Linear(in_features=15000, out_features=1200, bias=True)\n",
       "     (fully_connected_3): Linear(in_features=1200, out_features=125, bias=True)\n",
       "   )\n",
       " )}"
      ]
     },
     "execution_count": 10,
     "metadata": {},
     "output_type": "execute_result"
    }
   ],
   "source": [
    "restored_checkpoint"
   ]
  },
  {
   "cell_type": "code",
   "execution_count": 11,
   "metadata": {},
   "outputs": [
    {
     "data": {
      "text/plain": [
       "ConvolutionalNetwork(\n",
       "  (convolution_1): Conv2d(3, 6, kernel_size=(5, 5), stride=(1, 1))\n",
       "  (convolution_2): Conv2d(6, 16, kernel_size=(5, 5), stride=(1, 1))\n",
       "  (convolution_3): Conv2d(16, 20, kernel_size=(4, 4), stride=(1, 1))\n",
       "  (fully_connected_1): Linear(in_features=16820, out_features=15000, bias=True)\n",
       "  (fully_connected_2): Linear(in_features=15000, out_features=1200, bias=True)\n",
       "  (fully_connected_3): Linear(in_features=1200, out_features=125, bias=True)\n",
       ")"
      ]
     },
     "execution_count": 11,
     "metadata": {},
     "output_type": "execute_result"
    }
   ],
   "source": [
    "restored_convnet = restored_checkpoint['convnet']\n",
    "restored_convnet"
   ]
  },
  {
   "cell_type": "code",
   "execution_count": 12,
   "metadata": {},
   "outputs": [
    {
     "data": {
      "text/plain": [
       "<bound method Module.state_dict of ConvolutionalNetwork(\n",
       "  (convolution_1): Conv2d(3, 6, kernel_size=(5, 5), stride=(1, 1))\n",
       "  (convolution_2): Conv2d(6, 16, kernel_size=(5, 5), stride=(1, 1))\n",
       "  (convolution_3): Conv2d(16, 20, kernel_size=(4, 4), stride=(1, 1))\n",
       "  (fully_connected_1): Linear(in_features=16820, out_features=15000, bias=True)\n",
       "  (fully_connected_2): Linear(in_features=15000, out_features=1200, bias=True)\n",
       "  (fully_connected_3): Linear(in_features=1200, out_features=125, bias=True)\n",
       ")>"
      ]
     },
     "execution_count": 12,
     "metadata": {},
     "output_type": "execute_result"
    }
   ],
   "source": [
    "restored_convnet.state_dict"
   ]
  },
  {
   "cell_type": "code",
   "execution_count": 13,
   "metadata": {},
   "outputs": [
    {
     "data": {
      "text/plain": [
       "TripletNetwork(\n",
       "  (embedding_network): ConvolutionalNetwork(\n",
       "    (convolution_1): Conv2d(3, 6, kernel_size=(5, 5), stride=(1, 1))\n",
       "    (convolution_2): Conv2d(6, 16, kernel_size=(5, 5), stride=(1, 1))\n",
       "    (convolution_3): Conv2d(16, 20, kernel_size=(4, 4), stride=(1, 1))\n",
       "    (fully_connected_1): Linear(in_features=16820, out_features=15000, bias=True)\n",
       "    (fully_connected_2): Linear(in_features=15000, out_features=1200, bias=True)\n",
       "    (fully_connected_3): Linear(in_features=1200, out_features=125, bias=True)\n",
       "  )\n",
       ")"
      ]
     },
     "execution_count": 13,
     "metadata": {},
     "output_type": "execute_result"
    }
   ],
   "source": [
    "restored_net = restored_checkpoint['net']\n",
    "restored_net"
   ]
  },
  {
   "cell_type": "code",
   "execution_count": 14,
   "metadata": {},
   "outputs": [
    {
     "data": {
      "text/plain": [
       "<bound method Module.state_dict of TripletNetwork(\n",
       "  (embedding_network): ConvolutionalNetwork(\n",
       "    (convolution_1): Conv2d(3, 6, kernel_size=(5, 5), stride=(1, 1))\n",
       "    (convolution_2): Conv2d(6, 16, kernel_size=(5, 5), stride=(1, 1))\n",
       "    (convolution_3): Conv2d(16, 20, kernel_size=(4, 4), stride=(1, 1))\n",
       "    (fully_connected_1): Linear(in_features=16820, out_features=15000, bias=True)\n",
       "    (fully_connected_2): Linear(in_features=15000, out_features=1200, bias=True)\n",
       "    (fully_connected_3): Linear(in_features=1200, out_features=125, bias=True)\n",
       "  )\n",
       ")>"
      ]
     },
     "execution_count": 14,
     "metadata": {},
     "output_type": "execute_result"
    }
   ],
   "source": [
    "restored_net.state_dict"
   ]
  },
  {
   "cell_type": "code",
   "execution_count": 15,
   "metadata": {},
   "outputs": [
    {
     "ename": "TypeError",
     "evalue": "forward() missing 3 required positional arguments: 'anchor', 'positive', and 'negative'",
     "output_type": "error",
     "traceback": [
      "\u001b[1;31m---------------------------------------------------------------------------\u001b[0m",
      "\u001b[1;31mTypeError\u001b[0m                                 Traceback (most recent call last)",
      "\u001b[1;32m<ipython-input-15-45715188154b>\u001b[0m in \u001b[0;36m<module>\u001b[1;34m\u001b[0m\n\u001b[1;32m----> 1\u001b[1;33m \u001b[0mrestored_net\u001b[0m\u001b[1;33m(\u001b[0m\u001b[1;33m)\u001b[0m\u001b[1;33m\u001b[0m\u001b[1;33m\u001b[0m\u001b[0m\n\u001b[0m",
      "\u001b[1;32mC:\\Anaconda\\lib\\site-packages\\torch\\nn\\modules\\module.py\u001b[0m in \u001b[0;36m__call__\u001b[1;34m(self, *input, **kwargs)\u001b[0m\n\u001b[0;32m    491\u001b[0m             \u001b[0mresult\u001b[0m \u001b[1;33m=\u001b[0m \u001b[0mself\u001b[0m\u001b[1;33m.\u001b[0m\u001b[0m_slow_forward\u001b[0m\u001b[1;33m(\u001b[0m\u001b[1;33m*\u001b[0m\u001b[0minput\u001b[0m\u001b[1;33m,\u001b[0m \u001b[1;33m**\u001b[0m\u001b[0mkwargs\u001b[0m\u001b[1;33m)\u001b[0m\u001b[1;33m\u001b[0m\u001b[1;33m\u001b[0m\u001b[0m\n\u001b[0;32m    492\u001b[0m         \u001b[1;32melse\u001b[0m\u001b[1;33m:\u001b[0m\u001b[1;33m\u001b[0m\u001b[1;33m\u001b[0m\u001b[0m\n\u001b[1;32m--> 493\u001b[1;33m             \u001b[0mresult\u001b[0m \u001b[1;33m=\u001b[0m \u001b[0mself\u001b[0m\u001b[1;33m.\u001b[0m\u001b[0mforward\u001b[0m\u001b[1;33m(\u001b[0m\u001b[1;33m*\u001b[0m\u001b[0minput\u001b[0m\u001b[1;33m,\u001b[0m \u001b[1;33m**\u001b[0m\u001b[0mkwargs\u001b[0m\u001b[1;33m)\u001b[0m\u001b[1;33m\u001b[0m\u001b[1;33m\u001b[0m\u001b[0m\n\u001b[0m\u001b[0;32m    494\u001b[0m         \u001b[1;32mfor\u001b[0m \u001b[0mhook\u001b[0m \u001b[1;32min\u001b[0m \u001b[0mself\u001b[0m\u001b[1;33m.\u001b[0m\u001b[0m_forward_hooks\u001b[0m\u001b[1;33m.\u001b[0m\u001b[0mvalues\u001b[0m\u001b[1;33m(\u001b[0m\u001b[1;33m)\u001b[0m\u001b[1;33m:\u001b[0m\u001b[1;33m\u001b[0m\u001b[1;33m\u001b[0m\u001b[0m\n\u001b[0;32m    495\u001b[0m             \u001b[0mhook_result\u001b[0m \u001b[1;33m=\u001b[0m \u001b[0mhook\u001b[0m\u001b[1;33m(\u001b[0m\u001b[0mself\u001b[0m\u001b[1;33m,\u001b[0m \u001b[0minput\u001b[0m\u001b[1;33m,\u001b[0m \u001b[0mresult\u001b[0m\u001b[1;33m)\u001b[0m\u001b[1;33m\u001b[0m\u001b[1;33m\u001b[0m\u001b[0m\n",
      "\u001b[1;31mTypeError\u001b[0m: forward() missing 3 required positional arguments: 'anchor', 'positive', and 'negative'"
     ]
    }
   ],
   "source": [
    "restored_net()"
   ]
  }
 ],
 "metadata": {
  "kernelspec": {
   "display_name": "Python 3",
   "language": "python",
   "name": "python3"
  },
  "language_info": {
   "codemirror_mode": {
    "name": "ipython",
    "version": 3
   },
   "file_extension": ".py",
   "mimetype": "text/x-python",
   "name": "python",
   "nbconvert_exporter": "python",
   "pygments_lexer": "ipython3",
   "version": "3.7.3"
  }
 },
 "nbformat": 4,
 "nbformat_minor": 2
}
