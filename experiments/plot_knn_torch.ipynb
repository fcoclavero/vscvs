{
 "cells": [
  {
   "cell_type": "code",
   "execution_count": null,
   "metadata": {
    "collapsed": false
   },
   "outputs": [],
   "source": [
    "%matplotlib inline"
   ]
  },
  {
   "cell_type": "markdown",
   "metadata": {},
   "source": [
    "\n",
    "# K-NN classification - PyTorch API\n",
    "\n",
    "\n",
    "The :func:`pykeops.torch.generic_argkmin` routine allows us\n",
    "to perform **bruteforce k-nearest neighbors search** with four lines of code.\n",
    "It can thus be used to implement a **large-scale** \n",
    "`K-NN classifier <https://en.wikipedia.org/wiki/K-nearest_neighbors_algorithm>`_,\n",
    "**without memory overflows**.\n",
    "\n"
   ]
  },
  {
   "cell_type": "markdown",
   "metadata": {},
   "source": [
    "Setup \n",
    "-----------------\n",
    "Standard imports:\n",
    "\n"
   ]
  },
  {
   "cell_type": "code",
   "execution_count": null,
   "metadata": {
    "collapsed": false
   },
   "outputs": [],
   "source": [
    "import time\n",
    "from matplotlib import pyplot as plt\n",
    "\n",
    "import numpy as np\n",
    "import torch\n",
    "\n",
    "from pykeops.torch import generic_argkmin\n",
    "\n",
    "use_cuda = torch.cuda.is_available()\n",
    "dtype = torch.cuda.FloatTensor if use_cuda else torch.FloatTensor"
   ]
  },
  {
   "cell_type": "markdown",
   "metadata": {},
   "source": [
    "Dataset, in 2D:\n",
    "\n"
   ]
  },
  {
   "cell_type": "code",
   "execution_count": null,
   "metadata": {
    "collapsed": false
   },
   "outputs": [],
   "source": [
    "N, D = 10000 if use_cuda else 1000, 2  # Number of samples, dimension\n",
    "x = torch.rand(N, D).type(dtype)       # Random samples on the unit square\n",
    "\n",
    "# Random-ish class labels:\n",
    "def fth(x):\n",
    "    return 3*x*(x-.5)*(x-1)+x\n",
    "cl = x[:,1] + .1 * torch.randn(N).type(dtype) < fth( x[:,0] )"
   ]
  },
  {
   "cell_type": "markdown",
   "metadata": {},
   "source": [
    "Reference sampling grid, on the unit square:\n",
    "\n"
   ]
  },
  {
   "cell_type": "code",
   "execution_count": null,
   "metadata": {
    "collapsed": false
   },
   "outputs": [],
   "source": [
    "M = 1000 if use_cuda else 100\n",
    "tmp = torch.linspace(0, 1, M).type(dtype)\n",
    "g1, g2 = torch.meshgrid(tmp,tmp)\n",
    "g = torch.cat( (g1.contiguous().view(-1,1), g2.contiguous().view(-1,1)), dim=1 )"
   ]
  },
  {
   "cell_type": "markdown",
   "metadata": {},
   "source": [
    "K-Nearest Neighbors search\n",
    "----------------------------\n",
    "\n"
   ]
  },
  {
   "cell_type": "markdown",
   "metadata": {},
   "source": [
    "Peform the K-NN classification, with a fancy display:\n",
    "\n",
    "\n"
   ]
  },
  {
   "cell_type": "code",
   "execution_count": null,
   "metadata": {
    "collapsed": false
   },
   "outputs": [],
   "source": [
    "plt.figure(figsize=(12,8))\n",
    "plt.subplot( 2, 3, 1)  \n",
    "plt.scatter(x.cpu()[:, 0], x.cpu()[:, 1], c=cl.cpu(), s=2)\n",
    "plt.imshow(np.ones((2,2)), extent=(0,1,0,1), alpha=0)\n",
    "plt.axis('off') ; plt.axis([0, 1, 0, 1])\n",
    "plt.title('{:,} data points,\\n{:,} grid points'.format(N, M*M))\n",
    "\n",
    "for (i,K) in enumerate( (1, 3, 10, 20, 50) ):\n",
    "\n",
    "    # Define our KeOps kernel:\n",
    "    knn_search = generic_argkmin( \n",
    "        'SqDist(x,y)',  # A simple squared L2 distance\n",
    "        'ind = Vi({})'.format(K),  # The K output indices are indexed by \"i\"\n",
    "        'x = Vi({})'.format(D),    # 1st arg: target points of dimension D, indexed by \"i\"\n",
    "        'y = Vj({})'.format(D))    # 2nd arg: source points of dimension D, indexed by \"j\"\n",
    "\n",
    "    start = time.time()    # Benchmark:\n",
    "    indKNN = knn_search(g, x)  # Grid <-> Samples\n",
    "    clg = cl[indKNN].float().mean(1) > .5     # Classify the Grid points\n",
    "    end = time.time()\n",
    "\n",
    "    plt.subplot(2, 3,i+2)  # Fancy display:\n",
    "    clg = clg.view(M,M)\n",
    "    plt.imshow(clg.cpu(), extent=(0,1,0,1), origin='lower')\n",
    "    plt.axis('off') ; plt.axis([0, 1, 0, 1]) ; plt.tight_layout()\n",
    "    plt.title('{}-NN classifier,\\n t = {:.2f}s'.format(K, end-start))\n",
    "\n",
    "plt.show()"
   ]
  }
 ],
 "metadata": {
  "kernelspec": {
   "display_name": "Python 3",
   "language": "python",
   "name": "python3"
  },
  "language_info": {
   "codemirror_mode": {
    "name": "ipython",
    "version": 3
   },
   "file_extension": ".py",
   "mimetype": "text/x-python",
   "name": "python",
   "nbconvert_exporter": "python",
   "pygments_lexer": "ipython3",
   "version": "3.7.1"
  }
 },
 "nbformat": 4,
 "nbformat_minor": 2
}
